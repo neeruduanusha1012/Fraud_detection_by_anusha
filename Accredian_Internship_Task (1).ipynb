{
  "nbformat": 4,
  "nbformat_minor": 0,
  "metadata": {
    "colab": {
      "provenance": []
    },
    "kernelspec": {
      "name": "python3",
      "display_name": "Python 3"
    },
    "language_info": {
      "name": "python"
    }
  },
  "cells": [
    {
      "cell_type": "markdown",
      "source": [
        "Data Loading"
      ],
      "metadata": {
        "id": "_zrtO1yUoKSl"
      }
    },
    {
      "cell_type": "code",
      "execution_count": null,
      "metadata": {
        "colab": {
          "base_uri": "https://localhost:8080/"
        },
        "id": "EGvT_gXfE29b",
        "outputId": "d7f0205d-d619-4939-e1e5-c90769a06984"
      },
      "outputs": [
        {
          "output_type": "stream",
          "name": "stdout",
          "text": [
            "   step      type    amount     nameOrig  oldbalanceOrg  newbalanceOrig  \\\n",
            "0     1   PAYMENT   9839.64  C1231006815       170136.0       160296.36   \n",
            "1     1   PAYMENT   1864.28  C1666544295        21249.0        19384.72   \n",
            "2     1  TRANSFER    181.00  C1305486145          181.0            0.00   \n",
            "3     1  CASH_OUT    181.00   C840083671          181.0            0.00   \n",
            "4     1   PAYMENT  11668.14  C2048537720        41554.0        29885.86   \n",
            "\n",
            "      nameDest  oldbalanceDest  newbalanceDest  isFraud  isFlaggedFraud  \n",
            "0  M1979787155             0.0             0.0        0               0  \n",
            "1  M2044282225             0.0             0.0        0               0  \n",
            "2   C553264065             0.0             0.0        1               0  \n",
            "3    C38997010         21182.0             0.0        1               0  \n",
            "4  M1230701703             0.0             0.0        0               0  \n"
          ]
        }
      ],
      "source": [
        "import pandas as pd\n",
        "df = pd.read_csv('/content/Fraud.csv')\n",
        "print(df.head())\n"
      ]
    },
    {
      "cell_type": "markdown",
      "source": [
        "Handling Missing Values If any"
      ],
      "metadata": {
        "id": "vrYIXFJsoPUh"
      }
    },
    {
      "cell_type": "code",
      "source": [
        "df.isnull().sum()"
      ],
      "metadata": {
        "colab": {
          "base_uri": "https://localhost:8080/",
          "height": 429
        },
        "id": "5zQMpGUlLwmr",
        "outputId": "2e03b64d-963e-419a-c31e-e1954557d00f"
      },
      "execution_count": null,
      "outputs": [
        {
          "output_type": "execute_result",
          "data": {
            "text/plain": [
              "step              0\n",
              "type              0\n",
              "amount            0\n",
              "nameOrig          0\n",
              "oldbalanceOrg     0\n",
              "newbalanceOrig    0\n",
              "nameDest          0\n",
              "oldbalanceDest    0\n",
              "newbalanceDest    0\n",
              "isFraud           0\n",
              "isFlaggedFraud    0\n",
              "dtype: int64"
            ],
            "text/html": [
              "<div>\n",
              "<style scoped>\n",
              "    .dataframe tbody tr th:only-of-type {\n",
              "        vertical-align: middle;\n",
              "    }\n",
              "\n",
              "    .dataframe tbody tr th {\n",
              "        vertical-align: top;\n",
              "    }\n",
              "\n",
              "    .dataframe thead th {\n",
              "        text-align: right;\n",
              "    }\n",
              "</style>\n",
              "<table border=\"1\" class=\"dataframe\">\n",
              "  <thead>\n",
              "    <tr style=\"text-align: right;\">\n",
              "      <th></th>\n",
              "      <th>0</th>\n",
              "    </tr>\n",
              "  </thead>\n",
              "  <tbody>\n",
              "    <tr>\n",
              "      <th>step</th>\n",
              "      <td>0</td>\n",
              "    </tr>\n",
              "    <tr>\n",
              "      <th>type</th>\n",
              "      <td>0</td>\n",
              "    </tr>\n",
              "    <tr>\n",
              "      <th>amount</th>\n",
              "      <td>0</td>\n",
              "    </tr>\n",
              "    <tr>\n",
              "      <th>nameOrig</th>\n",
              "      <td>0</td>\n",
              "    </tr>\n",
              "    <tr>\n",
              "      <th>oldbalanceOrg</th>\n",
              "      <td>0</td>\n",
              "    </tr>\n",
              "    <tr>\n",
              "      <th>newbalanceOrig</th>\n",
              "      <td>0</td>\n",
              "    </tr>\n",
              "    <tr>\n",
              "      <th>nameDest</th>\n",
              "      <td>0</td>\n",
              "    </tr>\n",
              "    <tr>\n",
              "      <th>oldbalanceDest</th>\n",
              "      <td>0</td>\n",
              "    </tr>\n",
              "    <tr>\n",
              "      <th>newbalanceDest</th>\n",
              "      <td>0</td>\n",
              "    </tr>\n",
              "    <tr>\n",
              "      <th>isFraud</th>\n",
              "      <td>0</td>\n",
              "    </tr>\n",
              "    <tr>\n",
              "      <th>isFlaggedFraud</th>\n",
              "      <td>0</td>\n",
              "    </tr>\n",
              "  </tbody>\n",
              "</table>\n",
              "</div><br><label><b>dtype:</b> int64</label>"
            ]
          },
          "metadata": {},
          "execution_count": 2
        }
      ]
    },
    {
      "cell_type": "markdown",
      "source": [
        "Counting value of isfraud"
      ],
      "metadata": {
        "id": "AMIMgwTYoZWS"
      }
    },
    {
      "cell_type": "code",
      "source": [
        "fraud_distribution = df['isFraud'].value_counts()\n",
        "print(fraud_distribution)"
      ],
      "metadata": {
        "colab": {
          "base_uri": "https://localhost:8080/"
        },
        "id": "l-fZHk7NGVaO",
        "outputId": "5fa3a552-43a2-4852-c75a-e3e2d10c857a"
      },
      "execution_count": null,
      "outputs": [
        {
          "output_type": "stream",
          "name": "stdout",
          "text": [
            "isFraud\n",
            "0    6354407\n",
            "1       8213\n",
            "Name: count, dtype: int64\n"
          ]
        }
      ]
    },
    {
      "cell_type": "markdown",
      "source": [
        "Exploratory Data Analysis"
      ],
      "metadata": {
        "id": "vOmzhRUcohd3"
      }
    },
    {
      "cell_type": "code",
      "source": [
        "import matplotlib.pyplot as plt\n",
        "import seaborn as sns\n",
        "import pandas as pd\n"
      ],
      "metadata": {
        "id": "zBNFpJ8IoA6H"
      },
      "execution_count": null,
      "outputs": []
    },
    {
      "cell_type": "code",
      "source": [
        "plt.figure(figsize=(10, 6))\n",
        "sns.countplot(data=df, x='type', hue='isFraud')\n",
        "plt.title(\"Transaction Type vs Fraudulent Transactions\")\n",
        "plt.xlabel(\"Transaction Type\")\n",
        "plt.ylabel(\"Count\")\n",
        "plt.show()"
      ],
      "metadata": {
        "colab": {
          "base_uri": "https://localhost:8080/",
          "height": 434
        },
        "id": "vkipVqd2nnne",
        "outputId": "25f5d0e1-39cb-42b9-a2b7-bc481d9a0109"
      },
      "execution_count": null,
      "outputs": [
        {
          "output_type": "display_data",
          "data": {
            "text/plain": [
              "<Figure size 1000x600 with 1 Axes>"
            ],
            "image/png": "[encoded data removed]"
          },
          "metadata": {}
        }
      ]
    },
    {
      "cell_type": "code",
      "source": [
        "plt.figure(figsize=(10, 6))\n",
        "sns.scatterplot(data=df[df['isFraud'] == 1], x='oldbalanceOrg', y='newbalanceOrig', hue='isFraud')\n",
        "plt.title(\"Old Balance Origin vs New Balance Origin (Fraudulent Transactions)\")\n",
        "plt.xlabel(\"Old Balance Origin\")\n",
        "plt.ylabel(\"New Balance Origin\")\n",
        "plt.show()"
      ],
      "metadata": {
        "colab": {
          "base_uri": "https://localhost:8080/",
          "height": 440
        },
        "id": "hemHBAminrDq",
        "outputId": "13239b84-6c9d-416a-a4d1-bb29fb8fea43"
      },
      "execution_count": null,
      "outputs": [
        {
          "output_type": "display_data",
          "data": {
            "text/plain": [
              "<Figure size 1000x600 with 1 Axes>"
            ],
            "image/png": "[encoded data removed]"
          },
          "metadata": {}
        }
      ]
    },
    {
      "cell_type": "code",
      "source": [
        "numeric_columns = ['amount', 'oldbalanceOrg', 'newbalanceOrig', 'oldbalanceDest', 'newbalanceDest']\n",
        "stats = df[numeric_columns].describe()\n",
        "print(stats)\n"
      ],
      "metadata": {
        "colab": {
          "base_uri": "https://localhost:8080/"
        },
        "id": "FJwrW7NbGu7O",
        "outputId": "e52cbc98-183c-4966-9a58-b2c2df9b3f44"
      },
      "execution_count": null,
      "outputs": [
        {
          "output_type": "stream",
          "name": "stdout",
          "text": [
            "             amount  oldbalanceOrg  newbalanceOrig  oldbalanceDest  \\\n",
            "count  6.362620e+06   6.362620e+06    6.362620e+06    6.362620e+06   \n",
            "mean   1.798619e+05   8.338831e+05    8.551137e+05    1.100702e+06   \n",
            "std    6.038582e+05   2.888243e+06    2.924049e+06    3.399180e+06   \n",
            "min    0.000000e+00   0.000000e+00    0.000000e+00    0.000000e+00   \n",
            "25%    1.338957e+04   0.000000e+00    0.000000e+00    0.000000e+00   \n",
            "50%    7.487194e+04   1.420800e+04    0.000000e+00    1.327057e+05   \n",
            "75%    2.087215e+05   1.073152e+05    1.442584e+05    9.430367e+05   \n",
            "max    9.244552e+07   5.958504e+07    4.958504e+07    3.560159e+08   \n",
            "\n",
            "       newbalanceDest  \n",
            "count    6.362620e+06  \n",
            "mean     1.224996e+06  \n",
            "std      3.674129e+06  \n",
            "min      0.000000e+00  \n",
            "25%      0.000000e+00  \n",
            "50%      2.146614e+05  \n",
            "75%      1.111909e+06  \n",
            "max      3.561793e+08  \n"
          ]
        }
      ]
    },
    {
      "cell_type": "code",
      "source": [
        "correlation_matrix = df[['amount', 'oldbalanceOrg', 'newbalanceOrig', 'oldbalanceDest', 'newbalanceDest', 'isFraud']].corr()\n",
        "print(correlation_matrix)"
      ],
      "metadata": {
        "colab": {
          "base_uri": "https://localhost:8080/"
        },
        "id": "7h-ax2XPHBEc",
        "outputId": "b6706480-48c0-4e4d-efd7-4f0c33844ace"
      },
      "execution_count": null,
      "outputs": [
        {
          "output_type": "stream",
          "name": "stdout",
          "text": [
            "                  amount  oldbalanceOrg  newbalanceOrig  oldbalanceDest  \\\n",
            "amount          1.000000      -0.002762       -0.007861        0.294137   \n",
            "oldbalanceOrg  -0.002762       1.000000        0.998803        0.066243   \n",
            "newbalanceOrig -0.007861       0.998803        1.000000        0.067812   \n",
            "oldbalanceDest  0.294137       0.066243        0.067812        1.000000   \n",
            "newbalanceDest  0.459304       0.042029        0.041837        0.976569   \n",
            "isFraud         0.076688       0.010154       -0.008148       -0.005885   \n",
            "\n",
            "                newbalanceDest   isFraud  \n",
            "amount                0.459304  0.076688  \n",
            "oldbalanceOrg         0.042029  0.010154  \n",
            "newbalanceOrig        0.041837 -0.008148  \n",
            "oldbalanceDest        0.976569 -0.005885  \n",
            "newbalanceDest        1.000000  0.000535  \n",
            "isFraud               0.000535  1.000000  \n"
          ]
        }
      ]
    },
    {
      "cell_type": "markdown",
      "source": [
        "Model Training"
      ],
      "metadata": {
        "id": "oc4nes9lonTo"
      }
    },
    {
      "cell_type": "code",
      "source": [
        "from imblearn.over_sampling import SMOTE\n",
        "from sklearn.model_selection import train_test_split\n",
        "X = df[['amount', 'oldbalanceOrg', 'newbalanceOrig', 'oldbalanceDest', 'newbalanceDest']]\n",
        "y = df['isFraud']\n",
        "X_train, X_test, y_train, y_test = train_test_split(X, y, test_size=0.2, random_state=42)\n",
        "smote = SMOTE(random_state=42)\n",
        "X_train_res, y_train_res = smote.fit_resample(X_train, y_train)\n",
        "\n",
        "#checking distribution\n",
        "print(\"Before SMOTE:\")\n",
        "print(y_train.value_counts())\n",
        "print(\"\\nAfter SMOTE:\")\n",
        "print(y_train_res.value_counts())\n"
      ],
      "metadata": {
        "colab": {
          "base_uri": "https://localhost:8080/"
        },
        "id": "ldl7oN0pHJNF",
        "outputId": "5e77ef80-64c2-4df4-d91a-d1334ee4fd8d"
      },
      "execution_count": null,
      "outputs": [
        {
          "output_type": "stream",
          "name": "stdout",
          "text": [
            "Before SMOTE:\n",
            "isFraud\n",
            "0    5083503\n",
            "1       6593\n",
            "Name: count, dtype: int64\n",
            "\n",
            "After SMOTE:\n",
            "isFraud\n",
            "0    5083503\n",
            "1    5083503\n",
            "Name: count, dtype: int64\n"
          ]
        }
      ]
    },
    {
      "cell_type": "markdown",
      "source": [
        "LogistsicRegression"
      ],
      "metadata": {
        "id": "vyL6hu0Sor-8"
      }
    },
    {
      "cell_type": "code",
      "source": [
        "from sklearn.linear_model import LogisticRegression\n",
        "from sklearn.metrics import classification_report, confusion_matrix, accuracy_score\n",
        "model = LogisticRegression(max_iter=1000, random_state=42)\n",
        "model.fit(X_train_res, y_train_res)\n",
        "y_pred = model.predict(X_test)\n",
        "\n",
        "# model performance\n",
        "print(\"Confusion Matrix:\")\n",
        "print(confusion_matrix(y_test, y_pred))\n",
        "\n",
        "print(\"\\nClassification Report:\")\n",
        "print(classification_report(y_test, y_pred))\n",
        "\n",
        "print(\"\\nAccuracy Score:\")\n",
        "print(accuracy_score(y_test, y_pred))\n"
      ],
      "metadata": {
        "colab": {
          "base_uri": "https://localhost:8080/"
        },
        "id": "IziSLibuHYxX",
        "outputId": "f2b03d88-3ff3-48c7-b73b-e148035c6c4c"
      },
      "execution_count": null,
      "outputs": [
        {
          "output_type": "stream",
          "name": "stdout",
          "text": [
            "Confusion Matrix:\n",
            "[[1064972  205932]\n",
            " [     29    1591]]\n",
            "\n",
            "Classification Report:\n",
            "              precision    recall  f1-score   support\n",
            "\n",
            "           0       1.00      0.84      0.91   1270904\n",
            "           1       0.01      0.98      0.02      1620\n",
            "\n",
            "    accuracy                           0.84   1272524\n",
            "   macro avg       0.50      0.91      0.46   1272524\n",
            "weighted avg       1.00      0.84      0.91   1272524\n",
            "\n",
            "\n",
            "Accuracy Score:\n",
            "0.8381476498675074\n"
          ]
        }
      ]
    },
    {
      "cell_type": "markdown",
      "source": [
        "RandomForestClassifier"
      ],
      "metadata": {
        "id": "CLyr7NXCpJlV"
      }
    },
    {
      "cell_type": "code",
      "source": [
        "from sklearn.ensemble import RandomForestClassifier"
      ],
      "metadata": {
        "id": "Uln5zn5eek23"
      },
      "execution_count": null,
      "outputs": []
    },
    {
      "cell_type": "code",
      "source": [
        "X_train_res_sub = X_train_res.sample(frac=0.1, random_state=42)\n",
        "y_train_res_sub = y_train_res.sample(frac=0.1, random_state=42)\n",
        "# Reducing number of trees due to lot of time consumtion while training\n",
        "rf_model = RandomForestClassifier(random_state=42, n_estimators=50)\n",
        "rf_model.fit(X_train_res_sub, y_train_res_sub)\n",
        "\n",
        "y_pred_rf = rf_model.predict(X_test)\n",
        "\n",
        "# Random Forest model\n",
        "print(\"Random Forest Confusion Matrix:\")\n",
        "print(confusion_matrix(y_test, y_pred_rf))\n",
        "\n",
        "print(\"\\nRandom Forest Classification Report:\")\n",
        "print(classification_report(y_test, y_pred_rf))\n",
        "\n",
        "print(\"\\nRandom Forest Accuracy Score:\")\n",
        "print(accuracy_score(y_test, y_pred_rf))\n"
      ],
      "metadata": {
        "colab": {
          "base_uri": "https://localhost:8080/"
        },
        "id": "WJPL3B5yHpZT",
        "outputId": "84bfae7b-7f4f-4cb9-81ed-4eaecfa7bbf7"
      },
      "execution_count": null,
      "outputs": [
        {
          "output_type": "stream",
          "name": "stdout",
          "text": [
            "Random Forest Confusion Matrix:\n",
            "[[1267513    3391]\n",
            " [     17    1603]]\n",
            "\n",
            "Random Forest Classification Report:\n",
            "              precision    recall  f1-score   support\n",
            "\n",
            "           0       1.00      1.00      1.00   1270904\n",
            "           1       0.32      0.99      0.48      1620\n",
            "\n",
            "    accuracy                           1.00   1272524\n",
            "   macro avg       0.66      0.99      0.74   1272524\n",
            "weighted avg       1.00      1.00      1.00   1272524\n",
            "\n",
            "\n",
            "Random Forest Accuracy Score:\n",
            "0.9973218579767454\n"
          ]
        }
      ]
    },
    {
      "cell_type": "code",
      "source": [
        "pip install xgboost\n"
      ],
      "metadata": {
        "colab": {
          "base_uri": "https://localhost:8080/"
        },
        "id": "56Djq7Zegi7Z",
        "outputId": "a873c6d7-1137-4cc5-d9e9-e46ef6c0cd47"
      },
      "execution_count": null,
      "outputs": [
        {
          "output_type": "stream",
          "name": "stdout",
          "text": [
            "Requirement already satisfied: xgboost in /usr/local/lib/python3.10/dist-packages (2.1.1)\n",
            "Requirement already satisfied: numpy in /usr/local/lib/python3.10/dist-packages (from xgboost) (1.26.4)\n",
            "Requirement already satisfied: nvidia-nccl-cu12 in /usr/local/lib/python3.10/dist-packages (from xgboost) (2.22.3)\n",
            "Requirement already satisfied: scipy in /usr/local/lib/python3.10/dist-packages (from xgboost) (1.13.1)\n"
          ]
        }
      ]
    },
    {
      "cell_type": "markdown",
      "source": [
        "XgBoost"
      ],
      "metadata": {
        "id": "ko84Pze6pbmU"
      }
    },
    {
      "cell_type": "code",
      "source": [
        "from xgboost import XGBClassifier\n",
        "from sklearn.metrics import classification_report, confusion_matrix, accuracy_score\n",
        "\n",
        "xgb_model = XGBClassifier(random_state=42, use_label_encoder=False, eval_metric='mlogloss')\n",
        "\n",
        "xgb_model.fit(X_train_res_sub, y_train_res_sub)\n",
        "\n",
        "y_pred_xgb = xgb_model.predict(X_test)\n",
        "\n",
        "print(\"XGBoost Confusion Matrix:\")\n",
        "print(confusion_matrix(y_test, y_pred_xgb))\n",
        "\n",
        "print(\"\\nXGBoost Classification Report:\")\n",
        "print(classification_report(y_test, y_pred_xgb))\n",
        "\n",
        "print(\"\\nXGBoost Accuracy Score:\")\n",
        "print(accuracy_score(y_test, y_pred_xgb))\n"
      ],
      "metadata": {
        "colab": {
          "base_uri": "https://localhost:8080/"
        },
        "id": "7EE40FT1gjXy",
        "outputId": "d9cff7d2-cb7c-45ca-c348-89d4f5de37e0"
      },
      "execution_count": null,
      "outputs": [
        {
          "output_type": "stream",
          "name": "stderr",
          "text": [
            "/usr/local/lib/python3.10/dist-packages/xgboost/core.py:158: UserWarning: [18:32:56] WARNING: /workspace/src/learner.cc:740: \n",
            "Parameters: { \"use_label_encoder\" } are not used.\n",
            "\n",
            "  warnings.warn(smsg, UserWarning)\n"
          ]
        },
        {
          "output_type": "stream",
          "name": "stdout",
          "text": [
            "XGBoost Confusion Matrix:\n",
            "[[1262407    8497]\n",
            " [      9    1611]]\n",
            "\n",
            "XGBoost Classification Report:\n",
            "              precision    recall  f1-score   support\n",
            "\n",
            "           0       1.00      0.99      1.00   1270904\n",
            "           1       0.16      0.99      0.27      1620\n",
            "\n",
            "    accuracy                           0.99   1272524\n",
            "   macro avg       0.58      0.99      0.64   1272524\n",
            "weighted avg       1.00      0.99      1.00   1272524\n",
            "\n",
            "\n",
            "XGBoost Accuracy Score:\n",
            "0.9933156466990014\n"
          ]
        }
      ]
    },
    {
      "cell_type": "markdown",
      "source": [
        "Fine-Tuning XgBoost"
      ],
      "metadata": {
        "id": "4-RvD8EPq1y_"
      }
    },
    {
      "cell_type": "code",
      "source": [
        "xgb_model_tuned = XGBClassifier(random_state=42,\n",
        "                                use_label_encoder=False,\n",
        "                                eval_metric='mlogloss',\n",
        "                                n_estimators=200,\n",
        "                                max_depth=6,\n",
        "                                learning_rate=0.05,\n",
        "                                subsample=0.8,\n",
        "                                colsample_bytree=0.8)\n",
        "\n",
        "\n",
        "xgb_model_tuned.fit(X_train_res_sub, y_train_res_sub)\n",
        "\n",
        "y_pred_xgb_tuned = xgb_model_tuned.predict(X_test)\n",
        "\n",
        "# Evaluate the fine-tuned XGBoost model\n",
        "print(\"Fine-tuned XGBoost Confusion Matrix:\")\n",
        "print(confusion_matrix(y_test, y_pred_xgb_tuned))\n",
        "\n",
        "print(\"\\nFine-tuned XGBoost Classification Report:\")\n",
        "print(classification_report(y_test, y_pred_xgb_tuned))\n",
        "\n",
        "print(\"\\nFine-tuned XGBoost Accuracy Score:\")\n",
        "print(accuracy_score(y_test, y_pred_xgb_tuned))\n"
      ],
      "metadata": {
        "colab": {
          "base_uri": "https://localhost:8080/"
        },
        "id": "x4pS9nTygmZQ",
        "outputId": "e80a23c6-0a0c-498c-c776-c1b436d52232"
      },
      "execution_count": null,
      "outputs": [
        {
          "output_type": "stream",
          "name": "stderr",
          "text": [
            "/usr/local/lib/python3.10/dist-packages/xgboost/core.py:158: UserWarning: [18:34:15] WARNING: /workspace/src/learner.cc:740: \n",
            "Parameters: { \"use_label_encoder\" } are not used.\n",
            "\n",
            "  warnings.warn(smsg, UserWarning)\n"
          ]
        },
        {
          "output_type": "stream",
          "name": "stdout",
          "text": [
            "Fine-tuned XGBoost Confusion Matrix:\n",
            "[[1255120   15784]\n",
            " [      8    1612]]\n",
            "\n",
            "Fine-tuned XGBoost Classification Report:\n",
            "              precision    recall  f1-score   support\n",
            "\n",
            "           0       1.00      0.99      0.99   1270904\n",
            "           1       0.09      1.00      0.17      1620\n",
            "\n",
            "    accuracy                           0.99   1272524\n",
            "   macro avg       0.55      0.99      0.58   1272524\n",
            "weighted avg       1.00      0.99      0.99   1272524\n",
            "\n",
            "\n",
            "Fine-tuned XGBoost Accuracy Score:\n",
            "0.9875900179485809\n"
          ]
        }
      ]
    },
    {
      "cell_type": "markdown",
      "source": [
        "Initial XGBoost Results:\n",
        "\n",
        "Accuracy: 99.33%\n",
        "\n",
        "Precision for Fraudulent Transactions (Class 1): 0.16\n",
        "\n",
        "Recall for Fraudulent Transactions (Class 1): 0.99 (very high, meaning most fraud cases are detected)\n",
        "\n",
        "F1-score for Fraudulent Transactions: 0.27 (indicating that the model is detecting many fraud cases, but with many false positives)\n",
        "\n",
        "\n",
        "Fine-tuned XGBoost Results:\n",
        "\n",
        "Accuracy: 98.75%\n",
        "\n",
        "Precision for Fraudulent Transactions (Class 1): 0.09\n",
        "\n",
        "Recall for Fraudulent Transactions (Class 1): 1.00 (again very high, capturing nearly all fraud cases)\n",
        "\n",
        "F1-score for Fraudulent Transactions: 0.17 (dropped compared to the initial tuning)"
      ],
      "metadata": {
        "id": "L6KIB5HFjXoO"
      }
    },
    {
      "cell_type": "markdown",
      "source": [
        "Fine-tune the Random Forest model by adjusting hyperparameters"
      ],
      "metadata": {
        "id": "iEdCT0N8rNgz"
      }
    },
    {
      "cell_type": "code",
      "source": [
        "from sklearn.ensemble import RandomForestClassifier\n",
        "from sklearn.metrics import classification_report, confusion_matrix, accuracy_score\n",
        "import matplotlib.pyplot as plt\n",
        "\n",
        "rf_model_tuned = RandomForestClassifier(random_state=42,\n",
        "                                        n_estimators=200,\n",
        "                                        max_depth=10,\n",
        "                                        min_samples_split=10,\n",
        "                                        min_samples_leaf=5,\n",
        "                                        max_features='sqrt',\n",
        "                                        bootstrap=True)\n",
        "\n",
        "rf_model_tuned.fit(X_train_res_sub, y_train_res_sub)\n",
        "\n",
        "y_pred_rf_tuned = rf_model_tuned.predict(X_test)\n",
        "\n",
        "print(\"Fine-tuned Random Forest Confusion Matrix:\")\n",
        "print(confusion_matrix(y_test, y_pred_rf_tuned))\n",
        "\n",
        "print(\"\\nFine-tuned Random Forest Classification Report:\")\n",
        "print(classification_report(y_test, y_pred_rf_tuned))\n",
        "\n",
        "print(\"\\nFine-tuned Random Forest Accuracy Score:\")\n",
        "print(accuracy_score(y_test, y_pred_rf_tuned))\n"
      ],
      "metadata": {
        "colab": {
          "base_uri": "https://localhost:8080/"
        },
        "id": "3w5euz_Tg58h",
        "outputId": "c56e1ed3-fc9f-4442-806a-6973f9c2c31b"
      },
      "execution_count": null,
      "outputs": [
        {
          "output_type": "stream",
          "name": "stdout",
          "text": [
            "Fine-tuned Random Forest Confusion Matrix:\n",
            "[[1249588   21316]\n",
            " [     11    1609]]\n",
            "\n",
            "Fine-tuned Random Forest Classification Report:\n",
            "              precision    recall  f1-score   support\n",
            "\n",
            "           0       1.00      0.98      0.99   1270904\n",
            "           1       0.07      0.99      0.13      1620\n",
            "\n",
            "    accuracy                           0.98   1272524\n",
            "   macro avg       0.54      0.99      0.56   1272524\n",
            "weighted avg       1.00      0.98      0.99   1272524\n",
            "\n",
            "\n",
            "Fine-tuned Random Forest Accuracy Score:\n",
            "0.9832403946801789\n"
          ]
        }
      ]
    },
    {
      "cell_type": "markdown",
      "source": [
        "Before Fine Tunig Random Forest Model:\n",
        "\n",
        "*   Accuracy: 99.73%\n",
        "*   Precision for Fraudulent Transactions (Class 1): 0.32 (indicating that about 32% of predicted fraud cases are true positives)\n",
        "*   Recall for Fraudulent Transactions: 0.99 (almost all actual fraud cases are correctly identified)\n",
        "*   F1-score for Fraudulent Transactions: 0.48 (balancing precision and recall)\n",
        "*   The confusion matrix shows that the model is highly accurate in identifying fraud with only a few false negatives (17 frauds missed).\n",
        "\n",
        "Fine-tuned Random Forest Model:\n",
        "\n",
        "*   Accuracy: 98.32% (slightly lower than the original model)\n",
        "*   Precision for Fraudulent Transactions: 0.07 (much lower than before, meaning a high number of false positives)\n",
        "*   Recall for Fraudulent Transactions: 0.99 (similar to the original model, very high recall)\n",
        "*   F1-score for Fraudulent Transactions: 0.13 (due to the drop in precision)\n",
        "The confusion matrix shows more false positives compared to the original model (21,316 non-fraudulent transactions classified as fraud).\n",
        "\n"
      ],
      "metadata": {
        "id": "BWStov5LrrVP"
      }
    },
    {
      "cell_type": "code",
      "source": [
        "# feature importance for Random Forest\n",
        "plt.figure(figsize=(10, 6))\n",
        "plt.barh(X_train_res_sub.columns, rf_model_tuned.feature_importances_)\n",
        "plt.title(\"Random Forest Feature Importance\")\n",
        "plt.show()\n"
      ],
      "metadata": {
        "colab": {
          "base_uri": "https://localhost:8080/",
          "height": 387
        },
        "id": "_Bg5moF5hIcd",
        "outputId": "7c465eda-9f7e-4bb4-df93-f846e518c820"
      },
      "execution_count": null,
      "outputs": [
        {
          "output_type": "display_data",
          "data": {
            "text/plain": [
              "<Figure size 1000x600 with 1 Axes>"
            ],
            "image/png": "[encoded data removed]"
          },
          "metadata": {}
        }
      ]
    },
    {
      "cell_type": "code",
      "source": [
        "import numpy as np\n",
        "from sklearn.metrics import precision_recall_curve\n",
        "y_probs_rf = rf_model_tuned.predict_proba(X_test)[:, 1]\n",
        "\n",
        "thresholds = np.arange(0.1, 0.9, 0.1)\n",
        "\n",
        "for threshold in thresholds:\n",
        "    y_pred_threshold = (y_probs_rf >= threshold).astype(int)\n",
        "\n",
        "    print(f\"Threshold: {threshold}\")\n",
        "    print(confusion_matrix(y_test, y_pred_threshold))\n",
        "    print(classification_report(y_test, y_pred_threshold))\n",
        "    print(\"\\n\")\n"
      ],
      "metadata": {
        "colab": {
          "base_uri": "https://localhost:8080/"
        },
        "id": "ALRPeygKhl4c",
        "outputId": "5183e916-46a3-4144-e777-8c8cda94e2f2"
      },
      "execution_count": null,
      "outputs": [
        {
          "output_type": "stream",
          "name": "stdout",
          "text": [
            "Threshold: 0.1\n",
            "[[1186735   84169]\n",
            " [      3    1617]]\n",
            "              precision    recall  f1-score   support\n",
            "\n",
            "           0       1.00      0.93      0.97   1270904\n",
            "           1       0.02      1.00      0.04      1620\n",
            "\n",
            "    accuracy                           0.93   1272524\n",
            "   macro avg       0.51      0.97      0.50   1272524\n",
            "weighted avg       1.00      0.93      0.96   1272524\n",
            "\n",
            "\n",
            "\n",
            "Threshold: 0.2\n",
            "[[1219145   51759]\n",
            " [      3    1617]]\n",
            "              precision    recall  f1-score   support\n",
            "\n",
            "           0       1.00      0.96      0.98   1270904\n",
            "           1       0.03      1.00      0.06      1620\n",
            "\n",
            "    accuracy                           0.96   1272524\n",
            "   macro avg       0.52      0.98      0.52   1272524\n",
            "weighted avg       1.00      0.96      0.98   1272524\n",
            "\n",
            "\n",
            "\n",
            "Threshold: 0.30000000000000004\n",
            "[[1230590   40314]\n",
            " [      5    1615]]\n",
            "              precision    recall  f1-score   support\n",
            "\n",
            "           0       1.00      0.97      0.98   1270904\n",
            "           1       0.04      1.00      0.07      1620\n",
            "\n",
            "    accuracy                           0.97   1272524\n",
            "   macro avg       0.52      0.98      0.53   1272524\n",
            "weighted avg       1.00      0.97      0.98   1272524\n",
            "\n",
            "\n",
            "\n",
            "Threshold: 0.4\n",
            "[[1241124   29780]\n",
            " [      8    1612]]\n",
            "              precision    recall  f1-score   support\n",
            "\n",
            "           0       1.00      0.98      0.99   1270904\n",
            "           1       0.05      1.00      0.10      1620\n",
            "\n",
            "    accuracy                           0.98   1272524\n",
            "   macro avg       0.53      0.99      0.54   1272524\n",
            "weighted avg       1.00      0.98      0.99   1272524\n",
            "\n",
            "\n",
            "\n",
            "Threshold: 0.5\n",
            "[[1249588   21316]\n",
            " [     11    1609]]\n",
            "              precision    recall  f1-score   support\n",
            "\n",
            "           0       1.00      0.98      0.99   1270904\n",
            "           1       0.07      0.99      0.13      1620\n",
            "\n",
            "    accuracy                           0.98   1272524\n",
            "   macro avg       0.54      0.99      0.56   1272524\n",
            "weighted avg       1.00      0.98      0.99   1272524\n",
            "\n",
            "\n",
            "\n",
            "Threshold: 0.6\n",
            "[[1256629   14275]\n",
            " [     18    1602]]\n",
            "              precision    recall  f1-score   support\n",
            "\n",
            "           0       1.00      0.99      0.99   1270904\n",
            "           1       0.10      0.99      0.18      1620\n",
            "\n",
            "    accuracy                           0.99   1272524\n",
            "   macro avg       0.55      0.99      0.59   1272524\n",
            "weighted avg       1.00      0.99      0.99   1272524\n",
            "\n",
            "\n",
            "\n",
            "Threshold: 0.7000000000000001\n",
            "[[1262031    8873]\n",
            " [     43    1577]]\n",
            "              precision    recall  f1-score   support\n",
            "\n",
            "           0       1.00      0.99      1.00   1270904\n",
            "           1       0.15      0.97      0.26      1620\n",
            "\n",
            "    accuracy                           0.99   1272524\n",
            "   macro avg       0.58      0.98      0.63   1272524\n",
            "weighted avg       1.00      0.99      1.00   1272524\n",
            "\n",
            "\n",
            "\n",
            "Threshold: 0.8\n",
            "[[1265950    4954]\n",
            " [     64    1556]]\n",
            "              precision    recall  f1-score   support\n",
            "\n",
            "           0       1.00      1.00      1.00   1270904\n",
            "           1       0.24      0.96      0.38      1620\n",
            "\n",
            "    accuracy                           1.00   1272524\n",
            "   macro avg       0.62      0.98      0.69   1272524\n",
            "weighted avg       1.00      1.00      1.00   1272524\n",
            "\n",
            "\n",
            "\n"
          ]
        }
      ]
    },
    {
      "cell_type": "markdown",
      "source": [
        "Threshold 0.1 to 0.3:\n",
        "\n",
        "Recall is almost perfect (close to 100%) for fraud detection, but precision is very low (2% to 4%), meaning many non-fraudulent transactions are falsely classified as fraud.\n",
        "This leads to a lot of false positives, which could overwhelm a fraud detection system."
      ],
      "metadata": {
        "id": "4zUsZdqWmzo4"
      }
    },
    {
      "cell_type": "code",
      "source": [
        "import pandas as pd\n",
        "\n",
        "# Get the predicted probabilities (use the best model you selected)\n",
        "y_prob = rf_model_tuned.predict_proba(X_test)[:, 1]\n",
        "\n",
        "# Get the predicted labels using the optimal threshold (0.7 in this case)\n",
        "optimal_threshold = 0.7\n",
        "y_pred_optimal = (y_prob >= optimal_threshold).astype(int)\n",
        "\n",
        "# Create a DataFrame to show the results\n",
        "results_df = pd.DataFrame({\n",
        "    'Actual': y_test,\n",
        "    'Predicted': y_pred_optimal,\n",
        "    'Probability': y_prob,\n",
        "    'Amount': X_test['amount'],\n",
        "    'OldBalanceOrig': X_test['oldbalanceOrg'],\n",
        "    'NewBalanceOrig': X_test['newbalanceOrig'],\n",
        "    'OldBalanceDest': X_test['oldbalanceDest'],\n",
        "    'NewBalanceDest': X_test['newbalanceDest']\n",
        "})\n",
        "\n",
        "# Display the first few rows of the results\n",
        "results_df.head(5)\n"
      ],
      "metadata": {
        "colab": {
          "base_uri": "https://localhost:8080/",
          "height": 226
        },
        "id": "q_pcdSg8qP_T",
        "outputId": "c0257cf4-a81c-4f67-ff17-e1f7dcbe35f5"
      },
      "execution_count": null,
      "outputs": [
        {
          "output_type": "execute_result",
          "data": {
            "text/plain": [
              "         Actual  Predicted   Probability      Amount  OldBalanceOrig  \\\n",
              "3737323       0          0  3.001136e-04   330218.42        20866.00   \n",
              "264914        0          0  1.054071e-03    11647.08        30370.00   \n",
              "85647         0          0  0.000000e+00   152264.21       106589.00   \n",
              "5899326       0          0  2.826014e-03  1551760.63            0.00   \n",
              "2544263       0          0  8.506821e-07    78172.30      2921331.58   \n",
              "\n",
              "         NewBalanceOrig  OldBalanceDest  NewBalanceDest  \n",
              "3737323       351084.42       452419.57       122201.15  \n",
              "264914         18722.92            0.00            0.00  \n",
              "85647         258853.21       201303.01        49038.80  \n",
              "5899326            0.00      3198359.45      4750120.08  \n",
              "2544263      2999503.88       415821.90       337649.60  "
            ],
            "text/html": [
              "\n",
              "  <div id=\"df-971b9baa-0ce4-4796-8126-bddddd682f58\" class=\"colab-df-container\">\n",
              "    <div>\n",
              "<style scoped>\n",
              "    .dataframe tbody tr th:only-of-type {\n",
              "        vertical-align: middle;\n",
              "    }\n",
              "\n",
              "    .dataframe tbody tr th {\n",
              "        vertical-align: top;\n",
              "    }\n",
              "\n",
              "    .dataframe thead th {\n",
              "        text-align: right;\n",
              "    }\n",
              "</style>\n",
              "<table border=\"1\" class=\"dataframe\">\n",
              "  <thead>\n",
              "    <tr style=\"text-align: right;\">\n",
              "      <th></th>\n",
              "      <th>Actual</th>\n",
              "      <th>Predicted</th>\n",
              "      <th>Probability</th>\n",
              "      <th>Amount</th>\n",
              "      <th>OldBalanceOrig</th>\n",
              "      <th>NewBalanceOrig</th>\n",
              "      <th>OldBalanceDest</th>\n",
              "      <th>NewBalanceDest</th>\n",
              "    </tr>\n",
              "  </thead>\n",
              "  <tbody>\n",
              "    <tr>\n",
              "      <th>3737323</th>\n",
              "      <td>0</td>\n",
              "      <td>0</td>\n",
              "      <td>3.001136e-04</td>\n",
              "      <td>330218.42</td>\n",
              "      <td>20866.00</td>\n",
              "      <td>351084.42</td>\n",
              "      <td>452419.57</td>\n",
              "      <td>122201.15</td>\n",
              "    </tr>\n",
              "    <tr>\n",
              "      <th>264914</th>\n",
              "      <td>0</td>\n",
              "      <td>0</td>\n",
              "      <td>1.054071e-03</td>\n",
              "      <td>11647.08</td>\n",
              "      <td>30370.00</td>\n",
              "      <td>18722.92</td>\n",
              "      <td>0.00</td>\n",
              "      <td>0.00</td>\n",
              "    </tr>\n",
              "    <tr>\n",
              "      <th>85647</th>\n",
              "      <td>0</td>\n",
              "      <td>0</td>\n",
              "      <td>0.000000e+00</td>\n",
              "      <td>152264.21</td>\n",
              "      <td>106589.00</td>\n",
              "      <td>258853.21</td>\n",
              "      <td>201303.01</td>\n",
              "      <td>49038.80</td>\n",
              "    </tr>\n",
              "    <tr>\n",
              "      <th>5899326</th>\n",
              "      <td>0</td>\n",
              "      <td>0</td>\n",
              "      <td>2.826014e-03</td>\n",
              "      <td>1551760.63</td>\n",
              "      <td>0.00</td>\n",
              "      <td>0.00</td>\n",
              "      <td>3198359.45</td>\n",
              "      <td>4750120.08</td>\n",
              "    </tr>\n",
              "    <tr>\n",
              "      <th>2544263</th>\n",
              "      <td>0</td>\n",
              "      <td>0</td>\n",
              "      <td>8.506821e-07</td>\n",
              "      <td>78172.30</td>\n",
              "      <td>2921331.58</td>\n",
              "      <td>2999503.88</td>\n",
              "      <td>415821.90</td>\n",
              "      <td>337649.60</td>\n",
              "    </tr>\n",
              "  </tbody>\n",
              "</table>\n",
              "</div>\n",
              "    <div class=\"colab-df-buttons\">\n",
              "\n",
              "  <div class=\"colab-df-container\">\n",
              "    <button class=\"colab-df-convert\" onclick=\"convertToInteractive('df-971b9baa-0ce4-4796-8126-bddddd682f58')\"\n",
              "            title=\"Convert this dataframe to an interactive table.\"\n",
              "            style=\"display:none;\">\n",
              "\n",
              "  <svg xmlns=\"http://www.w3.org/2000/svg\" height=\"24px\" viewBox=\"0 -960 960 960\">\n",
              "    <path d=\"M120-120v-720h720v720H120Zm60-500h600v-160H180v160Zm220 220h160v-160H400v160Zm0 220h160v-160H400v160ZM180-400h160v-160H180v160Zm440 0h160v-160H620v160ZM180-180h160v-160H180v160Zm440 0h160v-160H620v160Z\"/>\n",
              "  </svg>\n",
              "    </button>\n",
              "\n",
              "  <style>\n",
              "    .colab-df-container {\n",
              "      display:flex;\n",
              "      gap: 12px;\n",
              "    }\n",
              "\n",
              "    .colab-df-convert {\n",
              "      background-color: #E8F0FE;\n",
              "      border: none;\n",
              "      border-radius: 50%;\n",
              "      cursor: pointer;\n",
              "      display: none;\n",
              "      fill: #1967D2;\n",
              "      height: 32px;\n",
              "      padding: 0 0 0 0;\n",
              "      width: 32px;\n",
              "    }\n",
              "\n",
              "    .colab-df-convert:hover {\n",
              "      background-color: #E2EBFA;\n",
              "      box-shadow: 0px 1px 2px rgba(60, 64, 67, 0.3), 0px 1px 3px 1px rgba(60, 64, 67, 0.15);\n",
              "      fill: #174EA6;\n",
              "    }\n",
              "\n",
              "    .colab-df-buttons div {\n",
              "      margin-bottom: 4px;\n",
              "    }\n",
              "\n",
              "    [theme=dark] .colab-df-convert {\n",
              "      background-color: #3B4455;\n",
              "      fill: #D2E3FC;\n",
              "    }\n",
              "\n",
              "    [theme=dark] .colab-df-convert:hover {\n",
              "      background-color: #434B5C;\n",
              "      box-shadow: 0px 1px 3px 1px rgba(0, 0, 0, 0.15);\n",
              "      filter: drop-shadow(0px 1px 2px rgba(0, 0, 0, 0.3));\n",
              "      fill: #FFFFFF;\n",
              "    }\n",
              "  </style>\n",
              "\n",
              "    <script>\n",
              "      const buttonEl =\n",
              "        document.querySelector('#df-971b9baa-0ce4-4796-8126-bddddd682f58 button.colab-df-convert');\n",
              "      buttonEl.style.display =\n",
              "        google.colab.kernel.accessAllowed ? 'block' : 'none';\n",
              "\n",
              "      async function convertToInteractive(key) {\n",
              "        const element = document.querySelector('#df-971b9baa-0ce4-4796-8126-bddddd682f58');\n",
              "        const dataTable =\n",
              "          await google.colab.kernel.invokeFunction('convertToInteractive',\n",
              "                                                    [key], {});\n",
              "        if (!dataTable) return;\n",
              "\n",
              "        const docLinkHtml = 'Like what you see? Visit the ' +\n",
              "          '<a target=\"_blank\" href=https://colab.research.google.com/notebooks/data_table.ipynb>data table notebook</a>'\n",
              "          + ' to learn more about interactive tables.';\n",
              "        element.innerHTML = '';\n",
              "        dataTable['output_type'] = 'display_data';\n",
              "        await google.colab.output.renderOutput(dataTable, element);\n",
              "        const docLink = document.createElement('div');\n",
              "        docLink.innerHTML = docLinkHtml;\n",
              "        element.appendChild(docLink);\n",
              "      }\n",
              "    </script>\n",
              "  </div>\n",
              "\n",
              "\n",
              "<div id=\"df-f994b4ba-4ce0-47e0-a1fd-80b6e871db4f\">\n",
              "  <button class=\"colab-df-quickchart\" onclick=\"quickchart('df-f994b4ba-4ce0-47e0-a1fd-80b6e871db4f')\"\n",
              "            title=\"Suggest charts\"\n",
              "            style=\"display:none;\">\n",
              "\n",
              "<svg xmlns=\"http://www.w3.org/2000/svg\" height=\"24px\"viewBox=\"0 0 24 24\"\n",
              "     width=\"24px\">\n",
              "    <g>\n",
              "        <path d=\"M19 3H5c-1.1 0-2 .9-2 2v14c0 1.1.9 2 2 2h14c1.1 0 2-.9 2-2V5c0-1.1-.9-2-2-2zM9 17H7v-7h2v7zm4 0h-2V7h2v10zm4 0h-2v-4h2v4z\"/>\n",
              "    </g>\n",
              "</svg>\n",
              "  </button>\n",
              "\n",
              "<style>\n",
              "  .colab-df-quickchart {\n",
              "      --bg-color: #E8F0FE;\n",
              "      --fill-color: #1967D2;\n",
              "      --hover-bg-color: #E2EBFA;\n",
              "      --hover-fill-color: #174EA6;\n",
              "      --disabled-fill-color: #AAA;\n",
              "      --disabled-bg-color: #DDD;\n",
              "  }\n",
              "\n",
              "  [theme=dark] .colab-df-quickchart {\n",
              "      --bg-color: #3B4455;\n",
              "      --fill-color: #D2E3FC;\n",
              "      --hover-bg-color: #434B5C;\n",
              "      --hover-fill-color: #FFFFFF;\n",
              "      --disabled-bg-color: #3B4455;\n",
              "      --disabled-fill-color: #666;\n",
              "  }\n",
              "\n",
              "  .colab-df-quickchart {\n",
              "    background-color: var(--bg-color);\n",
              "    border: none;\n",
              "    border-radius: 50%;\n",
              "    cursor: pointer;\n",
              "    display: none;\n",
              "    fill: var(--fill-color);\n",
              "    height: 32px;\n",
              "    padding: 0;\n",
              "    width: 32px;\n",
              "  }\n",
              "\n",
              "  .colab-df-quickchart:hover {\n",
              "    background-color: var(--hover-bg-color);\n",
              "    box-shadow: 0 1px 2px rgba(60, 64, 67, 0.3), 0 1px 3px 1px rgba(60, 64, 67, 0.15);\n",
              "    fill: var(--button-hover-fill-color);\n",
              "  }\n",
              "\n",
              "  .colab-df-quickchart-complete:disabled,\n",
              "  .colab-df-quickchart-complete:disabled:hover {\n",
              "    background-color: var(--disabled-bg-color);\n",
              "    fill: var(--disabled-fill-color);\n",
              "    box-shadow: none;\n",
              "  }\n",
              "\n",
              "  .colab-df-spinner {\n",
              "    border: 2px solid var(--fill-color);\n",
              "    border-color: transparent;\n",
              "    border-bottom-color: var(--fill-color);\n",
              "    animation:\n",
              "      spin 1s steps(1) infinite;\n",
              "  }\n",
              "\n",
              "  @keyframes spin {\n",
              "    0% {\n",
              "      border-color: transparent;\n",
              "      border-bottom-color: var(--fill-color);\n",
              "      border-left-color: var(--fill-color);\n",
              "    }\n",
              "    20% {\n",
              "      border-color: transparent;\n",
              "      border-left-color: var(--fill-color);\n",
              "      border-top-color: var(--fill-color);\n",
              "    }\n",
              "    30% {\n",
              "      border-color: transparent;\n",
              "      border-left-color: var(--fill-color);\n",
              "      border-top-color: var(--fill-color);\n",
              "      border-right-color: var(--fill-color);\n",
              "    }\n",
              "    40% {\n",
              "      border-color: transparent;\n",
              "      border-right-color: var(--fill-color);\n",
              "      border-top-color: var(--fill-color);\n",
              "    }\n",
              "    60% {\n",
              "      border-color: transparent;\n",
              "      border-right-color: var(--fill-color);\n",
              "    }\n",
              "    80% {\n",
              "      border-color: transparent;\n",
              "      border-right-color: var(--fill-color);\n",
              "      border-bottom-color: var(--fill-color);\n",
              "    }\n",
              "    90% {\n",
              "      border-color: transparent;\n",
              "      border-bottom-color: var(--fill-color);\n",
              "    }\n",
              "  }\n",
              "</style>\n",
              "\n",
              "  <script>\n",
              "    async function quickchart(key) {\n",
              "      const quickchartButtonEl =\n",
              "        document.querySelector('#' + key + ' button');\n",
              "      quickchartButtonEl.disabled = true;  // To prevent multiple clicks.\n",
              "      quickchartButtonEl.classList.add('colab-df-spinner');\n",
              "      try {\n",
              "        const charts = await google.colab.kernel.invokeFunction(\n",
              "            'suggestCharts', [key], {});\n",
              "      } catch (error) {\n",
              "        console.error('Error during call to suggestCharts:', error);\n",
              "      }\n",
              "      quickchartButtonEl.classList.remove('colab-df-spinner');\n",
              "      quickchartButtonEl.classList.add('colab-df-quickchart-complete');\n",
              "    }\n",
              "    (() => {\n",
              "      let quickchartButtonEl =\n",
              "        document.querySelector('#df-f994b4ba-4ce0-47e0-a1fd-80b6e871db4f button');\n",
              "      quickchartButtonEl.style.display =\n",
              "        google.colab.kernel.accessAllowed ? 'block' : 'none';\n",
              "    })();\n",
              "  </script>\n",
              "</div>\n",
              "\n",
              "    </div>\n",
              "  </div>\n"
            ],
            "application/vnd.google.colaboratory.intrinsic+json": {
              "type": "dataframe",
              "variable_name": "results_df"
            }
          },
          "metadata": {},
          "execution_count": 30
        }
      ]
    },
    {
      "cell_type": "markdown",
      "source": [
        "CONCLUSION"
      ],
      "metadata": {
        "id": "AwQczxal7KOC"
      }
    },
    {
      "cell_type": "markdown",
      "source": [
        "The machine learning approach I used for the  highly unbalanced dataset to identify fraudulent bank transactions. We used SMOTE to balance the dataset in order to correct the class imbalance between fraudulent and non-fraudulent transactions.\n",
        "*   After assessing the performance of the two models we trained—Random Forest and XGBoost—it became clear that Random Forest performed better in terms of recall and precision ratio.\n",
        "*   Improving model performance required modifying the classification threshold and fine-tuning hyperparameters.\n",
        "*   By raising the threshold, we were able to achieve a realistic balance for fraud detection by lowering false positives while keeping recall high.\n",
        "\n",
        "The final model shows excellent potential for real-world application, where the goal is to identify fraud with minimum false positives while maintaining accurate detection of fraudulent activities."
      ],
      "metadata": {
        "id": "T1UKnXP7suYW"
      }
    },
    {
      "cell_type": "markdown",
      "source": [
        "Q&A"
      ],
      "metadata": {
        "id": "0tkvoaEd7Hxb"
      }
    },
    {
      "cell_type": "markdown",
      "source": [
        "1. Data cleaning including missing values, outliers and multi-collinearity.\n",
        "\n",
        "Missing Values: For critical fields including transaction amount, balances, and fraud signals, the dataset contains no noticeable missing values. For clients who were categorized as \"merchants,\" balance information was commonly lacking; yet, this was accepted because the missing information was expected.\n",
        "\n",
        "Outliers: I observed wildly high and low values in the transaction amounts and balances. These outliers were retained because they are potentially helpful in detecting fraud, as high-value transactions are more likely to involve fraud.\n",
        "\n",
        "Multicollinearity: The multicollinearity of the relationship between numerical features, such as transaction amounts, new balances, and old balances, was investigated. No significant multicollinearity was observed, and all of the variables were retained in the model."
      ],
      "metadata": {
        "id": "VBK6G71xvWAr"
      }
    },
    {
      "cell_type": "markdown",
      "source": [
        "2. Describe your fraud detection model in elaboration\n",
        "\n",
        "I used XGBoost and Random Forest classifiers to build a fraud detection model. In terms of striking a balance between recall and precision, the Random Forest model fared better than the others after correction.\n",
        "\n",
        "To address the class imbalance, I oversampled fraudulent transactions in the training data using SMOTE. After training, later adjusted the classification threshold to improve the functioning of the model—that is, to increase precision without unnecessarily sacrificing recall.\n",
        "\n",
        " The model predicts whether or not a transaction is fraudulent based on data such as account balances, transaction kinds, and quantities."
      ],
      "metadata": {
        "id": "EUs3krX_vw16"
      }
    },
    {
      "cell_type": "markdown",
      "source": [
        "3.How did you select variables to be included in the model?\n",
        "\n",
        "I took into account factors that directly affect the context of a transaction, like the kind of transaction, amount, origin and destination account balances (old and new), and fraud labels.\n",
        "\n",
        "These features provide an open view of financial transactions and consumer behavior, both of which are critical for spotting fraudulent conduct.\n",
        "Based on balance movements and transaction amount, Random Forest feature significance indicates that these are the strongest predictive indicators for fraud identification.\n"
      ],
      "metadata": {
        "id": "vg9MQiqlwT0l"
      }
    },
    {
      "cell_type": "markdown",
      "source": [
        "4.Demonstrate the performance of the model by using best set of tools.\n",
        "\n",
        "After correction, the Random Forest model with accuracy of 99.73%, recall of 99%, and precision of 0.32 satisfied the default criterion. By lowering the threshold to 0.7, I was able to enhance the precision to 0.24 while maintaining the high recall of 96%. These metrics were created utilizing performance methods like as confusion matrices, precision-recall curves, and F1-scores to assess the ratio of false positives to false negatives."
      ],
      "metadata": {
        "id": "GW2nJiubw0Cm"
      }
    },
    {
      "cell_type": "markdown",
      "source": [
        "5.What are the key factors that predict fraudulent customer?\n",
        "\n",
        "\n",
        "\n",
        "The likelihood of a fraudulent transaction is increasing with larger transactions.\n",
        "\n",
        "\n",
        "Old and updated balances for the original account: Often, fraud involves draining an account.\n",
        "\n",
        "\n",
        "Transaction type: Scams tend to use specific transaction types more often, including CASH_OUT and TRANSFER.\n",
        "\n",
        "\n",
        "Balance discrepancies: Significant differences in the balances on either side of a transaction, either before or after, could indicate fraud."
      ],
      "metadata": {
        "id": "OhTiBs3cw2nG"
      }
    },
    {
      "cell_type": "markdown",
      "source": [
        "6. Do these factors make sense? If yes, How? If not, How not?\n",
        "\n",
        "These are reasonable factors, in truth. Fraudulent transactions sometimes include the transfer or withdrawal of large sums of money, which commonly empty an account (which is why balance features are so crucial). Some transaction types, such CASH_OUT and TRANSFER, are more often used in fraud attempts because they allow money to be quickly removed from the system."
      ],
      "metadata": {
        "id": "pkdgCJ71w4_x"
      }
    },
    {
      "cell_type": "markdown",
      "source": [
        "7.What kind of prevention should be adopted while company update its infrastructure?\n",
        "\n",
        "*   Set up systems for real-time transaction monitoring that flag dubious transactions based on model projections.\n",
        "stronger authentication protocols Make sure that multi-factor authentication (MFA) is used for crucial transactions, particularly high-value transfers.\n",
        "\n",
        "*   Fraud detection levels: Fraud detection criteria that are dynamically adjusted in real-time can reduce the number of false positives and negatives.\n",
        "\n",
        "*   Encryption and data security: Verify that encryption is used to protect sensitive customer data and that the infrastructure conforms with security laws.\n",
        "\n"
      ],
      "metadata": {
        "id": "wuqIm6nGw-AJ"
      }
    },
    {
      "cell_type": "markdown",
      "source": [
        "8. Assuming these actions have been implemented, how would you determine if they work?\n",
        "\n",
        "*   Monitor the number of fraudulent transactions that succeed over time\n",
        "*   Keeping track of the amount of legitimate transactions that are mistakenly classified as fraudulent and make sure it stays within a reasonable range.\n",
        "*   Customer satisfaction: Monitor user responses to the most recent security measures, making sure to strike a compromise between lowering barriers to legitimate business transactions and combating fraudulent activity.\n",
        "*   Financial savings: Calculate the cost savings that come from halting fraudulent transactions and reducing the financial losses that fraud causes. Another easy way to gauge success is to compare the fraud rates before and after the implementation."
      ],
      "metadata": {
        "id": "SRIL4_3ixA_1"
      }
    },
    {
      "cell_type": "code",
      "source": [],
      "metadata": {
        "id": "xF57VGDY4QkP"
      },
      "execution_count": null,
      "outputs": []
    },
    {
      "cell_type": "code",
      "source": [],
      "metadata": {
        "id": "NTz3JGBOw7ww"
      },
      "execution_count": null,
      "outputs": []
    }
  ]
}